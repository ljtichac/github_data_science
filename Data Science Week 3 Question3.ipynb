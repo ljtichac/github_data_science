{
    "cells": [
        {
            "metadata": {},
            "cell_type": "code",
            "source": "#This notebook will be used for the data science capstone project.\nimport pandas as pd\nimport numpy as np\n!pip -q install folium\nimport folium # plotting library\nfrom sklearn.cluster import KMeans \nprint(\"Hello Capstone Project Course!\")\n",
            "execution_count": 2,
            "outputs": [
                {
                    "output_type": "stream",
                    "text": "Hello Capstone Project Course!\n",
                    "name": "stdout"
                }
            ]
        },
        {
            "metadata": {},
            "cell_type": "markdown",
            "source": "We will grab the table with beautiful soup."
        },
        {
            "metadata": {},
            "cell_type": "code",
            "source": "#We will grab the table with beautiful soup.\nfrom bs4 import BeautifulSoup\nimport urllib.request #This is so we can pull the url into an HTML\nurl = \"https://en.wikipedia.org/wiki/List_of_postal_codes_of_Canada:_M\" #This is the url of the table we want to pull\nsoup = BeautifulSoup(urllib.request.urlopen(url), 'html.parser') #Use Beautiful soup to grab the table\ntable  = soup.find('table',class_='wikitable sortable') #Store the wikitable as a table",
            "execution_count": 4,
            "outputs": []
        },
        {
            "metadata": {},
            "cell_type": "markdown",
            "source": "Clean the table into a dataframe that is formatted"
        },
        {
            "metadata": {},
            "cell_type": "code",
            "source": "#\nA=[]\nB=[]\nC=[]\nfor row in table.findAll('tr'):\n    cells=row.findAll('td')\n    if len(cells) > 0:\n     A.append(cells[0].find(text=True))\n     B.append(cells[1].find(text=True))\n     C.append(cells[2].find(text=True))\ndf=pd.DataFrame(A,columns=['Postal Code']) #Rename the first collumn    \ndf['Borough']=B #Rename the second collumn\ndf['Neighborhood']=C #Rename the third collumn\ndf_with_deletes=df[~df.Borough.str.contains(\"Not assigned\")] #Get a new dataframe with the not assigned data removed\n#Group the postal codes and join the boroughs and neighborhood\ndf_concat = df_with_deletes.groupby('Postal Code').agg({'Borough': ', '.join,'Neighborhood':', '.join}).reset_index()\n#Delete the \"\\n text\"\ndf_concat[\"Postal Code\"] = df_concat[\"Postal Code\"].str.replace(\"\\n\", \"\")\ndf_concat[\"Borough\"] = df_concat[\"Borough\"].str.replace(\"\\n\", \"\")\ndf_concat[\"Neighborhood\"] = df_concat[\"Neighborhood\"].str.replace(\"\\n\", \"\")\ndf_concat.head()",
            "execution_count": 5,
            "outputs": [
                {
                    "output_type": "execute_result",
                    "execution_count": 5,
                    "data": {
                        "text/plain": "  Postal Code      Borough                            Neighborhood\n0         M1B  Scarborough                          Malvern, Rouge\n1         M1C  Scarborough  Rouge Hill, Port Union, Highland Creek\n2         M1E  Scarborough       Guildwood, Morningside, West Hill\n3         M1G  Scarborough                                  Woburn\n4         M1H  Scarborough                               Cedarbrae",
                        "text/html": "<div>\n<style scoped>\n    .dataframe tbody tr th:only-of-type {\n        vertical-align: middle;\n    }\n\n    .dataframe tbody tr th {\n        vertical-align: top;\n    }\n\n    .dataframe thead th {\n        text-align: right;\n    }\n</style>\n<table border=\"1\" class=\"dataframe\">\n  <thead>\n    <tr style=\"text-align: right;\">\n      <th></th>\n      <th>Postal Code</th>\n      <th>Borough</th>\n      <th>Neighborhood</th>\n    </tr>\n  </thead>\n  <tbody>\n    <tr>\n      <th>0</th>\n      <td>M1B</td>\n      <td>Scarborough</td>\n      <td>Malvern, Rouge</td>\n    </tr>\n    <tr>\n      <th>1</th>\n      <td>M1C</td>\n      <td>Scarborough</td>\n      <td>Rouge Hill, Port Union, Highland Creek</td>\n    </tr>\n    <tr>\n      <th>2</th>\n      <td>M1E</td>\n      <td>Scarborough</td>\n      <td>Guildwood, Morningside, West Hill</td>\n    </tr>\n    <tr>\n      <th>3</th>\n      <td>M1G</td>\n      <td>Scarborough</td>\n      <td>Woburn</td>\n    </tr>\n    <tr>\n      <th>4</th>\n      <td>M1H</td>\n      <td>Scarborough</td>\n      <td>Cedarbrae</td>\n    </tr>\n  </tbody>\n</table>\n</div>"
                    },
                    "metadata": {}
                }
            ]
        },
        {
            "metadata": {},
            "cell_type": "code",
            "source": "df_concat.shape",
            "execution_count": 4,
            "outputs": [
                {
                    "output_type": "execute_result",
                    "execution_count": 4,
                    "data": {
                        "text/plain": "(103, 3)"
                    },
                    "metadata": {}
                }
            ]
        },
        {
            "metadata": {},
            "cell_type": "code",
            "source": "df_geo=pd.read_csv('http://cocl.us/Geospatial_data')",
            "execution_count": 6,
            "outputs": []
        },
        {
            "metadata": {},
            "cell_type": "markdown",
            "source": "Merge the two dataframes to get all the info together. Use Postal Code as the identifier."
        },
        {
            "metadata": {},
            "cell_type": "code",
            "source": "df_merged = pd.merge(df_concat, df_geo, on = [\"Postal Code\"], how = 'right')\ndf_merged.head()",
            "execution_count": 29,
            "outputs": [
                {
                    "output_type": "execute_result",
                    "execution_count": 29,
                    "data": {
                        "text/plain": "  Postal Code      Borough                            Neighborhood   Latitude  \\\n0         M1B  Scarborough                          Malvern, Rouge  43.806686   \n1         M1C  Scarborough  Rouge Hill, Port Union, Highland Creek  43.784535   \n2         M1E  Scarborough       Guildwood, Morningside, West Hill  43.763573   \n3         M1G  Scarborough                                  Woburn  43.770992   \n4         M1H  Scarborough                               Cedarbrae  43.773136   \n\n   Longitude  \n0 -79.194353  \n1 -79.160497  \n2 -79.188711  \n3 -79.216917  \n4 -79.239476  ",
                        "text/html": "<div>\n<style scoped>\n    .dataframe tbody tr th:only-of-type {\n        vertical-align: middle;\n    }\n\n    .dataframe tbody tr th {\n        vertical-align: top;\n    }\n\n    .dataframe thead th {\n        text-align: right;\n    }\n</style>\n<table border=\"1\" class=\"dataframe\">\n  <thead>\n    <tr style=\"text-align: right;\">\n      <th></th>\n      <th>Postal Code</th>\n      <th>Borough</th>\n      <th>Neighborhood</th>\n      <th>Latitude</th>\n      <th>Longitude</th>\n    </tr>\n  </thead>\n  <tbody>\n    <tr>\n      <th>0</th>\n      <td>M1B</td>\n      <td>Scarborough</td>\n      <td>Malvern, Rouge</td>\n      <td>43.806686</td>\n      <td>-79.194353</td>\n    </tr>\n    <tr>\n      <th>1</th>\n      <td>M1C</td>\n      <td>Scarborough</td>\n      <td>Rouge Hill, Port Union, Highland Creek</td>\n      <td>43.784535</td>\n      <td>-79.160497</td>\n    </tr>\n    <tr>\n      <th>2</th>\n      <td>M1E</td>\n      <td>Scarborough</td>\n      <td>Guildwood, Morningside, West Hill</td>\n      <td>43.763573</td>\n      <td>-79.188711</td>\n    </tr>\n    <tr>\n      <th>3</th>\n      <td>M1G</td>\n      <td>Scarborough</td>\n      <td>Woburn</td>\n      <td>43.770992</td>\n      <td>-79.216917</td>\n    </tr>\n    <tr>\n      <th>4</th>\n      <td>M1H</td>\n      <td>Scarborough</td>\n      <td>Cedarbrae</td>\n      <td>43.773136</td>\n      <td>-79.239476</td>\n    </tr>\n  </tbody>\n</table>\n</div>"
                    },
                    "metadata": {}
                }
            ]
        },
        {
            "metadata": {},
            "cell_type": "markdown",
            "source": "Plot the data to check work."
        },
        {
            "metadata": {},
            "cell_type": "code",
            "source": "kmeans = KMeans(n_clusters = 5, init ='k-means++')\nkmeans.fit(df_merged[df_merged.columns[4:5]]) #Fit the model.\ndf_merged['cluster_id'] = kmeans.fit_predict(df_merged[df_merged.columns[4:5]])\nlabels = kmeans.predict(df_merged[df_merged.columns[4:5]]) # Assign the labels to the dataframe\ndf_merged.head()",
            "execution_count": 35,
            "outputs": [
                {
                    "output_type": "execute_result",
                    "execution_count": 35,
                    "data": {
                        "text/plain": "  Postal Code      Borough                            Neighborhood   Latitude  \\\n0         M1B  Scarborough                          Malvern, Rouge  43.806686   \n1         M1C  Scarborough  Rouge Hill, Port Union, Highland Creek  43.784535   \n2         M1E  Scarborough       Guildwood, Morningside, West Hill  43.763573   \n3         M1G  Scarborough                                  Woburn  43.770992   \n4         M1H  Scarborough                               Cedarbrae  43.773136   \n\n   Longitude  cluster_id  \n0 -79.194353           1  \n1 -79.160497           1  \n2 -79.188711           1  \n3 -79.216917           1  \n4 -79.239476           1  ",
                        "text/html": "<div>\n<style scoped>\n    .dataframe tbody tr th:only-of-type {\n        vertical-align: middle;\n    }\n\n    .dataframe tbody tr th {\n        vertical-align: top;\n    }\n\n    .dataframe thead th {\n        text-align: right;\n    }\n</style>\n<table border=\"1\" class=\"dataframe\">\n  <thead>\n    <tr style=\"text-align: right;\">\n      <th></th>\n      <th>Postal Code</th>\n      <th>Borough</th>\n      <th>Neighborhood</th>\n      <th>Latitude</th>\n      <th>Longitude</th>\n      <th>cluster_id</th>\n    </tr>\n  </thead>\n  <tbody>\n    <tr>\n      <th>0</th>\n      <td>M1B</td>\n      <td>Scarborough</td>\n      <td>Malvern, Rouge</td>\n      <td>43.806686</td>\n      <td>-79.194353</td>\n      <td>1</td>\n    </tr>\n    <tr>\n      <th>1</th>\n      <td>M1C</td>\n      <td>Scarborough</td>\n      <td>Rouge Hill, Port Union, Highland Creek</td>\n      <td>43.784535</td>\n      <td>-79.160497</td>\n      <td>1</td>\n    </tr>\n    <tr>\n      <th>2</th>\n      <td>M1E</td>\n      <td>Scarborough</td>\n      <td>Guildwood, Morningside, West Hill</td>\n      <td>43.763573</td>\n      <td>-79.188711</td>\n      <td>1</td>\n    </tr>\n    <tr>\n      <th>3</th>\n      <td>M1G</td>\n      <td>Scarborough</td>\n      <td>Woburn</td>\n      <td>43.770992</td>\n      <td>-79.216917</td>\n      <td>1</td>\n    </tr>\n    <tr>\n      <th>4</th>\n      <td>M1H</td>\n      <td>Scarborough</td>\n      <td>Cedarbrae</td>\n      <td>43.773136</td>\n      <td>-79.239476</td>\n      <td>1</td>\n    </tr>\n  </tbody>\n</table>\n</div>"
                    },
                    "metadata": {}
                }
            ]
        },
        {
            "metadata": {},
            "cell_type": "markdown",
            "source": "We will cluster the values into a few k means clusters which reveals most boroughs are in Toronto."
        },
        {
            "metadata": {},
            "cell_type": "code",
            "source": "venues_map = folium.Map(location=[43.8, -79.2], zoom_start=12) \n\nfor i in range(0,len(df_merged)):\n    if df_merged.iloc[i]['cluster_id'] == 0:\n        color_choice = 'blue'\n    elif df_merged.iloc[i]['cluster_id'] == 1:    \n        color_choice = 'red' \n    elif df_merged.iloc[i]['cluster_id'] == 2:    \n        color_choice = 'orange'  \n    elif df_merged.iloc[i]['cluster_id'] == 3:    \n        color_choice = 'purple' \n    else:\n        color_choice = 'pink'\n    folium.Marker(\n      location = [df_merged.iloc[i]['Latitude'], df_merged.iloc[i]['Longitude']],\n      icon=folium.Icon(color=color_choice)  \n      ).add_to(venues_map)\n\n# display map\nvenues_map",
            "execution_count": 40,
            "outputs": [
                {
                    "output_type": "error",
                    "ename": "SyntaxError",
                    "evalue": "invalid syntax (<ipython-input-40-2487f1c8bd2e>, line 1)",
                    "traceback": [
                        "\u001b[0;36m  File \u001b[0;32m\"<ipython-input-40-2487f1c8bd2e>\"\u001b[0;36m, line \u001b[0;32m1\u001b[0m\n\u001b[0;31m    jupyter trust 'Data Science Week 3 Question3.ipynb'\u001b[0m\n\u001b[0m                ^\u001b[0m\n\u001b[0;31mSyntaxError\u001b[0m\u001b[0;31m:\u001b[0m invalid syntax\n"
                    ]
                }
            ]
        },
        {
            "metadata": {},
            "cell_type": "code",
            "source": "",
            "execution_count": null,
            "outputs": []
        }
    ],
    "metadata": {
        "kernelspec": {
            "name": "python3",
            "display_name": "Python 3.6",
            "language": "python"
        },
        "language_info": {
            "name": "python",
            "version": "3.6.9",
            "mimetype": "text/x-python",
            "codemirror_mode": {
                "name": "ipython",
                "version": 3
            },
            "pygments_lexer": "ipython3",
            "nbconvert_exporter": "python",
            "file_extension": ".py"
        }
    },
    "nbformat": 4,
    "nbformat_minor": 1
}