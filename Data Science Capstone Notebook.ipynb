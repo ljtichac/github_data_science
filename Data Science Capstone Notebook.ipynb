{
    "cells": [
        {
            "cell_type": "code",
            "execution_count": 12,
            "metadata": {},
            "outputs": [
                {
                    "name": "stdout",
                    "output_type": "stream",
                    "text": "Hello Capstone Project Course!\n"
                }
            ],
            "source": "#This notebook will be used for the data science capstone project.\nimport pandas as pd\nimport numpy as np\nprint(\"Hello Capstone Project Course!\")\n"
        },
        {
            "cell_type": "markdown",
            "metadata": {},
            "source": "We will grab the table with beautiful soup."
        },
        {
            "cell_type": "code",
            "execution_count": 13,
            "metadata": {},
            "outputs": [],
            "source": "#We will grab the table with beautiful soup.\nfrom bs4 import BeautifulSoup\nimport urllib.request #This is so we can pull the url into an HTML\nurl = \"https://en.wikipedia.org/wiki/List_of_postal_codes_of_Canada:_M\" #This is the url of the table we want to pull\nsoup = BeautifulSoup(urllib.request.urlopen(url), 'html.parser') #Use Beautiful soup to grab the table\ntable  = soup.find('table',class_='wikitable sortable') #Store the wikitable as a table"
        },
        {
            "cell_type": "code",
            "execution_count": 14,
            "metadata": {},
            "outputs": [
                {
                    "data": {
                        "text/html": "<div>\n<style scoped>\n    .dataframe tbody tr th:only-of-type {\n        vertical-align: middle;\n    }\n\n    .dataframe tbody tr th {\n        vertical-align: top;\n    }\n\n    .dataframe thead th {\n        text-align: right;\n    }\n</style>\n<table border=\"1\" class=\"dataframe\">\n  <thead>\n    <tr style=\"text-align: right;\">\n      <th></th>\n      <th>Postal Code</th>\n      <th>Borough</th>\n      <th>Neighborhood</th>\n    </tr>\n  </thead>\n  <tbody>\n    <tr>\n      <th>0</th>\n      <td>M1B</td>\n      <td>Scarborough</td>\n      <td>Malvern, Rouge</td>\n    </tr>\n    <tr>\n      <th>1</th>\n      <td>M1C</td>\n      <td>Scarborough</td>\n      <td>Rouge Hill, Port Union, Highland Creek</td>\n    </tr>\n    <tr>\n      <th>2</th>\n      <td>M1E</td>\n      <td>Scarborough</td>\n      <td>Guildwood, Morningside, West Hill</td>\n    </tr>\n    <tr>\n      <th>3</th>\n      <td>M1G</td>\n      <td>Scarborough</td>\n      <td>Woburn</td>\n    </tr>\n    <tr>\n      <th>4</th>\n      <td>M1H</td>\n      <td>Scarborough</td>\n      <td>Cedarbrae</td>\n    </tr>\n  </tbody>\n</table>\n</div>",
                        "text/plain": "  Postal Code      Borough                            Neighborhood\n0        M1B\n  Scarborough                          Malvern, Rouge\n1        M1C\n  Scarborough  Rouge Hill, Port Union, Highland Creek\n2        M1E\n  Scarborough       Guildwood, Morningside, West Hill\n3        M1G\n  Scarborough                                  Woburn\n4        M1H\n  Scarborough                               Cedarbrae"
                    },
                    "execution_count": 14,
                    "metadata": {},
                    "output_type": "execute_result"
                }
            ],
            "source": "#\nA=[]\nB=[]\nC=[]\nfor row in table.findAll('tr'):\n    cells=row.findAll('td')\n    if len(cells) > 0:\n     A.append(cells[0].find(text=True))\n     B.append(cells[1].find(text=True))\n     C.append(cells[2].find(text=True))\ndf=pd.DataFrame(A,columns=['Postal Code']) #Rename the first collumn    \ndf['Borough']=B #Rename the second collumn\ndf['Neighborhood']=C #Rename the third collumn\ndf_with_deletes=df[~df.Borough.str.contains(\"Not assigned\")] #Get a new dataframe with the not assigned data removed\n#Group the postal codes and join the boroughs and neighborhood\ndf_concat = df_with_deletes.groupby('Postal Code').agg({'Borough': ', '.join,'Neighborhood':', '.join}).reset_index()\n#Delete the \"\\n text\"\ndf_concat[\"Borough\"] = df_concat[\"Borough\"].str.replace(\"\\n\", \"\")\ndf_concat[\"Neighborhood\"] = df_concat[\"Neighborhood\"].str.replace(\"\\n\", \"\")\ndf_concat.head()"
        },
        {
            "cell_type": "code",
            "execution_count": 15,
            "metadata": {},
            "outputs": [
                {
                    "data": {
                        "text/plain": "(103, 3)"
                    },
                    "execution_count": 15,
                    "metadata": {},
                    "output_type": "execute_result"
                }
            ],
            "source": "df_concat.shape"
        },
        {
            "cell_type": "code",
            "execution_count": null,
            "metadata": {},
            "outputs": [],
            "source": ""
        }
    ],
    "metadata": {
        "kernelspec": {
            "display_name": "Python 3.6",
            "language": "python",
            "name": "python3"
        },
        "language_info": {
            "codemirror_mode": {
                "name": "ipython",
                "version": 3
            },
            "file_extension": ".py",
            "mimetype": "text/x-python",
            "name": "python",
            "nbconvert_exporter": "python",
            "pygments_lexer": "ipython3",
            "version": "3.6.9"
        }
    },
    "nbformat": 4,
    "nbformat_minor": 1
}